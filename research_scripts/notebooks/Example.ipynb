{
 "cells": [
  {
   "cell_type": "code",
   "execution_count": null,
   "id": "cd8b300b-34ff-47b7-bafa-2537703ef80d",
   "metadata": {},
   "outputs": [],
   "source": [
    "import sys\n",
    "sys.path.append('../../')\n",
    "import opticalcoating as oc"
   ]
  },
  {
   "cell_type": "markdown",
   "id": "ca9bc634-f627-40d6-bced-93538345f294",
   "metadata": {
    "jp-MarkdownHeadingCollapsed": true,
    "tags": []
   },
   "source": [
    "# Инициализация дизайна"
   ]
  },
  {
   "cell_type": "markdown",
   "id": "dfd24575-90c6-4fbb-a198-08827b18c18b",
   "metadata": {
    "jp-MarkdownHeadingCollapsed": true,
    "tags": []
   },
   "source": [
    "## Простейший дизайн без дисперсии"
   ]
  },
  {
   "cell_type": "code",
   "execution_count": null,
   "id": "04c0faa0-6bf8-4b02-b678-fb00d87d5ff9",
   "metadata": {},
   "outputs": [],
   "source": [
    "# Данные\n",
    "des_name = 'RAMP19'\n",
    "d = [0.0, 11.312, 52.599, 40.663, 29.844, 48.71, 64.411, 22.164, 74.8, 46.238, 39.479, 39.97, \n",
    "     79.953, 36.046, 47.032, 49.216, 83.599, 51.294, 81.827, 52.024]\n",
    "n_const = [1.52, 2.35, 1.46, 2.35, 1.46, 2.35, 1.46, 2.35, 1.46, 2.35, 1.46, 2.35, 1.46, 2.35, 1.46, 2.35, 1.46, 2.35, 1.46, 2.35]\n",
    "\n",
    "# Создание дизайна\n",
    "des = oc.Design(d=d, n_const=n_const)\n",
    "\n",
    "# Сохранение простейшего дизайна в json\n",
    "des.create_simple_json(name=des_name)"
   ]
  },
  {
   "cell_type": "markdown",
   "id": "86adbb1d-7ab5-4720-bae6-a1991d7bbadc",
   "metadata": {
    "jp-MarkdownHeadingCollapsed": true,
    "tags": []
   },
   "source": [
    "## Дизайн с дисперсией"
   ]
  },
  {
   "cell_type": "markdown",
   "id": "1551d42f-b1b0-4704-98b7-aa95680b7455",
   "metadata": {},
   "source": [
    "### Из excel"
   ]
  },
  {
   "cell_type": "code",
   "execution_count": null,
   "id": "3a778b1d-75a1-4970-9fad-ecc17979ddcc",
   "metadata": {},
   "outputs": [],
   "source": [
    "from openpyxl import load_workbook\n",
    "wb = load_workbook(filename = \"28-layer polarizer for 1064 nm.xlsx\")\n",
    "ws = wb.active\n",
    "\n",
    "des_name = 'POL28_Sch'\n",
    "\n",
    "d_th = [0] + [x[0].value for x in ws['B402':'B429']]\n",
    "\n",
    "print(f'Number of layers N = {len(d_th) - 1}')\n",
    "\n",
    "subs, H, L = 'BK7', 'ZrO2', 'SiO2'\n",
    "\n",
    "des_layers = [subs] + [H if i % 2 else L for i in range(1, len(d_th))]\n",
    "        \n",
    "print(f'Len des_layers = {len(des_layers)}')\n",
    "print(f'des_layers = {des_layers[:4]}, ...')\n",
    "\n",
    "mat_inf = {}\n",
    "mat_inf[subs] = {'Table': {'wavelength': [x[0].value for x in ws['A26':'A125']],\n",
    "                  'n': [x[0].value for x in ws['B26':'B125']]}}\n",
    "\n",
    "mat_inf[H] = {'Table': {'wavelength': [x[0].value for x in ws['A146':'A216']],\n",
    "                  'n': [x[0].value for x in ws['B146':'B216']]}}\n",
    "\n",
    "mat_inf[L] = {'Table': {'wavelength': [x[0].value for x in ws['A229':'A389']],\n",
    "                  'n': [x[0].value for x in ws['B229':'B389']]}}\n",
    "\n",
    "for k in mat_inf: print(mat_inf[k]['Table']['wavelength'][0], mat_inf[k]['Table']['wavelength'][-1])\n",
    "\n",
    "des_info = {'name': des_name,\n",
    "           'thicknesses': d_th,\n",
    "           'layers': des_layers,\n",
    "           'mat_inf': mat_inf}\n",
    "\n",
    "oc.Design(info=des_info).create_json()"
   ]
  },
  {
   "cell_type": "markdown",
   "id": "fd734101-26da-4c57-908d-27d765b0dab8",
   "metadata": {
    "jp-MarkdownHeadingCollapsed": true,
    "tags": []
   },
   "source": [
    "# Свойства дизайна"
   ]
  },
  {
   "cell_type": "markdown",
   "id": "d330fa5a-ac25-47b3-bd3a-d029056e0f0f",
   "metadata": {},
   "source": [
    "### Загрузка дизайна"
   ]
  },
  {
   "cell_type": "code",
   "execution_count": null,
   "id": "fc2c4456-bc6d-4f9a-8b4a-dccb4698603a",
   "metadata": {},
   "outputs": [],
   "source": [
    "# Если дизайн уже есть, то загружаем его так:\n",
    "des_name = 'QWM20'\n",
    "des = oc.Design(name=des_name)"
   ]
  },
  {
   "cell_type": "code",
   "execution_count": null,
   "id": "164f3d54-26a4-4622-8772-ba0abd411d8a",
   "metadata": {},
   "outputs": [],
   "source": [
    "# Толщины\n",
    "print('Толщины:', des.d)\n",
    "# Показатели преломления\n",
    "print('Показатели преломления:', des.n_const)"
   ]
  },
  {
   "cell_type": "code",
   "execution_count": null,
   "id": "4ebff9d6-9e7d-494d-9199-1970b8d377cd",
   "metadata": {},
   "outputs": [],
   "source": [
    "des.thickness_bar(lang='ru')"
   ]
  },
  {
   "cell_type": "code",
   "execution_count": null,
   "id": "4a39e3bb-98d8-410a-b50e-b83582d51434",
   "metadata": {},
   "outputs": [],
   "source": [
    "# Вычисление коэффициента пропускания T на длине волны 550 нм  со спектральной шириной щели 0.1 нм (абсолютное значение)\n",
    "des.calc_flux(oc.Wave(600), q_subs=True, q_TR='R', width=0.1)"
   ]
  },
  {
   "cell_type": "code",
   "execution_count": null,
   "id": "310de7b9-ce06-407c-a2fd-e76e4d10433c",
   "metadata": {},
   "outputs": [],
   "source": [
    "# Спектральная характеристика (Performance)\n",
    "des.spectral_plot(q_TR='R', wv_bnd=[380, 760], q_subs=False, lang='ru')\n",
    "# Обе поляризации на одном графике\n",
    "# des.spectral_plot(q_TR='T', wv_bnd=[1000, 1150], q_subs=False, lang='ru', polarisation='both', angle=55.6 * pi / 180, pic_ext='svg')"
   ]
  },
  {
   "cell_type": "markdown",
   "id": "8369a7f3-71d2-4c51-b8b7-5057c617c93d",
   "metadata": {},
   "source": [
    "## Кривая мониторинга"
   ]
  },
  {
   "cell_type": "code",
   "execution_count": null,
   "id": "0121def7-fb6e-48a1-ae3e-8a4dadd77623",
   "metadata": {},
   "outputs": [],
   "source": [
    "waves_1 = [oc.Wave(510) for _ in range(des.N + 1)]\n",
    "\n",
    "msd = {}\n",
    "msd[1] = oc.MonochromStrategyData.brute_force_calc(des, waves_1, q_TR='T', control_wv=550, q_subs=False)\n",
    "msd[2] = oc.MonochromStrategyData.brute_force_calc(des, waves_1, q_TR='T', control_wv=550, q_subs=False, width=3)"
   ]
  },
  {
   "cell_type": "markdown",
   "id": "a025ea4a-dbf2-4314-a5e9-3efe10d54892",
   "metadata": {},
   "source": [
    "### С нулевой шириной спектральной щели"
   ]
  },
  {
   "cell_type": "code",
   "execution_count": null,
   "id": "5b9fa970-38d4-4517-acae-1b090b48b3bb",
   "metadata": {},
   "outputs": [],
   "source": [
    "msd[1].monitoring_curve_plot(lang='ru')"
   ]
  },
  {
   "cell_type": "markdown",
   "id": "0b253ed9-71ce-462b-b88d-3433bac57acf",
   "metadata": {},
   "source": [
    "### С шириной спектральной щели 3 нм"
   ]
  },
  {
   "cell_type": "code",
   "execution_count": null,
   "id": "b9a2749a-916e-4436-8f04-cfb97a21f787",
   "metadata": {},
   "outputs": [],
   "source": [
    "msd[2].monitoring_curve_plot(lang='ru')"
   ]
  },
  {
   "cell_type": "markdown",
   "id": "e77b7c6c-7f58-4e8d-a2fa-afaacb48244a",
   "metadata": {},
   "source": [
    "### Сравнение"
   ]
  },
  {
   "cell_type": "code",
   "execution_count": null,
   "id": "2f39971e-ffb3-4f79-8ce3-2c4f81fc5ddf",
   "metadata": {},
   "outputs": [],
   "source": [
    "oc.MonochromStrategyData.monitoring_curve_plots([msd[k] for k in msd], lang='ru')"
   ]
  },
  {
   "cell_type": "markdown",
   "id": "d3d7fe5a-bfba-4517-96cf-e1be161de14c",
   "metadata": {
    "jp-MarkdownHeadingCollapsed": true,
    "tags": []
   },
   "source": [
    "# Единичная симуляция"
   ]
  },
  {
   "cell_type": "code",
   "execution_count": null,
   "id": "9c331c8a-0501-4e44-86b7-277751e1041c",
   "metadata": {},
   "outputs": [],
   "source": [
    "from time import perf_counter, time"
   ]
  },
  {
   "cell_type": "code",
   "execution_count": null,
   "id": "a88b6668-8382-47b1-a1b8-a0ba360239e7",
   "metadata": {},
   "outputs": [],
   "source": [
    "# Алгоритмы прекращения напыления: \n",
    "# На выбор есть LM, QS, TM\n",
    "term_algs = (des.N + 1) * ['QS']\n",
    "# Длины волн, на которых ведется наблюдение\n",
    "waves = [None] + des.N * [oc.Wave(550)]\n",
    "# Скорости напыления\n",
    "r_H, r_L = 0.4, 0.6\n",
    "rates = [None] + [r_H if j % 2 else r_L for j in range(1, des.N + 1)]\n",
    "# Ошибка в скорости напыления (стандартное отклонение)\n",
    "rates_sigmas = [None] + [0.05 * r_H if j % 2 else 0.05 * r_L for j in range(1, des.N + 1)]\n",
    "\n",
    "# Ошибка в измерении сигнала meas_sigmas=0.02 в абс. величинах (стандартное отклонение)\n",
    "set_up_pars = oc.SetUpParameters(N=des.N, waves=waves, rates=rates, q_TR='T', meas_sigmas=0.005,\n",
    "                                  rates_sigmas=rates_sigmas)\n",
    "\n",
    "rnd_seed = int(1000000 * time())\n",
    "task = {'des_th': des, 'term_algs': term_algs, 'set_up_pars': set_up_pars, 'rnd_seed': rnd_seed, 'save_M': True}"
   ]
  },
  {
   "cell_type": "code",
   "execution_count": null,
   "id": "71ac57ad-f1f5-48d0-bcf2-176545ec82ed",
   "metadata": {},
   "outputs": [],
   "source": [
    "start = perf_counter()\n",
    "sim = oc.simulation(**task)\n",
    "stop = perf_counter()\n",
    "print(f'Время одной симуляции: {stop - start:0.3f} c')"
   ]
  },
  {
   "cell_type": "code",
   "execution_count": null,
   "id": "c57ae5db-bdd5-4117-9491-db9d7b7ed2c5",
   "metadata": {},
   "outputs": [],
   "source": [
    "# Сохранение результата симуляции\n",
    "sim.save()"
   ]
  },
  {
   "cell_type": "code",
   "execution_count": null,
   "id": "1b4737dd-2309-4c2a-bec4-d55aa534b8dd",
   "metadata": {},
   "outputs": [],
   "source": [
    "from matplotlib import rc\n",
    "import matplotlib.pyplot as plt\n",
    "\n",
    "plt.figure(figsize=(16, 9))\n",
    "\n",
    "_ = plt.bar(range(1, des.N + 1), sim.errors_d[1:])"
   ]
  },
  {
   "cell_type": "code",
   "execution_count": null,
   "id": "1aff5942-b7a3-4cda-94c7-081e865d20c8",
   "metadata": {},
   "outputs": [],
   "source": [
    "plt.figure(figsize=(16, 9))\n",
    "\n",
    "for X, Y in zip(sim.time_list[1:], sim.flux_meas[1:]):\n",
    "    plt.plot(X, Y)"
   ]
  },
  {
   "cell_type": "markdown",
   "id": "b40018ce-2151-4aba-a967-cbbc19240fbb",
   "metadata": {
    "jp-MarkdownHeadingCollapsed": true,
    "tags": []
   },
   "source": [
    "# Сбор статистики"
   ]
  },
  {
   "cell_type": "markdown",
   "id": "1a32d8e3-3d8d-470c-b14e-c61439c6766b",
   "metadata": {},
   "source": [
    "Как вычислять статистику смотри \"research_scripts/python_scripts/Example.py\""
   ]
  },
  {
   "cell_type": "markdown",
   "id": "f8917a89-ad32-4200-8e11-c5703bdeb5c9",
   "metadata": {
    "tags": []
   },
   "source": [
    "## Визуализация ошибок"
   ]
  },
  {
   "cell_type": "code",
   "execution_count": null,
   "id": "b09f6ed2-9a37-494d-8c57-fd208143db57",
   "metadata": {},
   "outputs": [],
   "source": [
    "stat_num = 1\n",
    "oc.StatInfo.load(stat_num).rms_bar(lang='ru')"
   ]
  },
  {
   "cell_type": "code",
   "execution_count": null,
   "id": "570730cd-7566-4106-8417-308feff5f10e",
   "metadata": {},
   "outputs": [],
   "source": [
    "from opticalcoating.statistics_info import error_norm_hist\n",
    "\n",
    "error_norm_hist(stat_num)"
   ]
  },
  {
   "cell_type": "markdown",
   "id": "e0b6f5a3-6783-4eb8-b5e1-4775811182c1",
   "metadata": {},
   "source": [
    "## Анализ ошибок"
   ]
  },
  {
   "cell_type": "markdown",
   "id": "4d467bac-4daa-4fd3-9da5-fb4f45f400cd",
   "metadata": {},
   "source": [
    "### Задание таргета"
   ]
  },
  {
   "cell_type": "code",
   "execution_count": null,
   "id": "eecc6b34-d10d-4fbe-91dd-980922d42381",
   "metadata": {},
   "outputs": [],
   "source": [
    "trg = oc.Target(name='RAMP19', \n",
    "          waves = [oc.Wave(x) for x in [400, 450, 500, 550, 600, 650, 700, 750, 800]], \n",
    "          flux_target = [0.0, 0.125, 0.25, 0.375, 0.5, 0.625, 0.75, 0.875, 1.0], \n",
    "          q_TR='T')\n",
    "trg.save()"
   ]
  },
  {
   "cell_type": "code",
   "execution_count": null,
   "id": "644d7719-1c0e-4fb2-adb8-a2eea1bb8f1a",
   "metadata": {},
   "outputs": [],
   "source": [
    "c_vals = oc.timer(oc.ProcessedStatistics.calc)(des=des, target=oc.Target.from_json('RAMP19'), statistic_num=stat_num).save()\n",
    "c_vals.save()"
   ]
  },
  {
   "cell_type": "code",
   "execution_count": null,
   "id": "09bb64e0-ae04-48fe-9c81-eb351ef94461",
   "metadata": {},
   "outputs": [],
   "source": [
    "print(f'Средняя норма ошибки {oc.mean_error_norm(stat_num):.2f} нм')\n",
    "print(f'Коэф. самокомпенсации c = {oc.ProcessedStatistics.load(statistic_num=stat_num).c_value:.2f}')"
   ]
  },
  {
   "cell_type": "markdown",
   "id": "38a5d40f-b21c-4ef7-8dbd-915a3cdc4527",
   "metadata": {},
   "source": [
    "## Визуализация"
   ]
  },
  {
   "cell_type": "code",
   "execution_count": null,
   "id": "da37e08e-6217-48ac-9882-5c1ec8d17422",
   "metadata": {},
   "outputs": [],
   "source": [
    "oc.c_hist(oc.ProcessedStatistics.load(stat_num))"
   ]
  },
  {
   "cell_type": "code",
   "execution_count": null,
   "id": "2f5f3940-42aa-47b8-b3ff-e875aa2e38c1",
   "metadata": {},
   "outputs": [],
   "source": [
    "from opticalcoating.performance_plot import performance_plot\n",
    "\n",
    "performance_plot(statistic_num=stat_num, amount=5, is_best=False, wv_bnd=[450, 700], q_subs=False, ylim=(0, 100.5))"
   ]
  },
  {
   "cell_type": "code",
   "execution_count": null,
   "id": "74625be7-588f-4e25-958f-9940e38a8e75",
   "metadata": {},
   "outputs": [],
   "source": [
    "from opticalcoating.performance_plot import performance_plot\n",
    "\n",
    "performance_plot(statistic_num=stat_num, amount=5, is_best=True, wv_bnd=[450, 700], q_subs=False, ylim=(0, 100.5))"
   ]
  },
  {
   "cell_type": "code",
   "execution_count": null,
   "id": "d52cbcd5-9f6d-45a6-9cbb-b3a5c3dfc3e0",
   "metadata": {},
   "outputs": [],
   "source": []
  }
 ],
 "metadata": {
  "kernelspec": {
   "display_name": "Python 3 (ipykernel)",
   "language": "python",
   "name": "python3"
  },
  "language_info": {
   "codemirror_mode": {
    "name": "ipython",
    "version": 3
   },
   "file_extension": ".py",
   "mimetype": "text/x-python",
   "name": "python",
   "nbconvert_exporter": "python",
   "pygments_lexer": "ipython3",
   "version": "3.9.7"
  }
 },
 "nbformat": 4,
 "nbformat_minor": 5
}
